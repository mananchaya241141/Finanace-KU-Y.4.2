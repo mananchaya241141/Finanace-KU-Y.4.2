{
  "cells": [
    {
      "cell_type": "markdown",
      "metadata": {
        "id": "54DEN9zrXBnl"
      },
      "source": [
        "#Question 1 "
      ]
    },
    {
      "cell_type": "markdown",
      "metadata": {
        "id": "oiyzWOvg3Tby"
      },
      "source": [
        "Question 1: Use dataset of SET50 list in 2020 (https://www.set.or.th/th/market/files/constituents/SET50_100_H2_2020_revised.pdf) Compute the return in 2020 from 2020-01-01 to 2020-12-31. Find out\n",
        "\n",
        "Average annual return _____ and annual STD __ for buy and hold\n",
        "\n",
        "\n",
        "Average annual return _____ and annual STD __ for moving average crossing\n",
        "\n",
        "\n",
        "Average annual return _____ and annual STD __ for Bollinger Band\n",
        "\n",
        "\n",
        "Average annual return _____ and annual STD __ for RSI\n"
      ]
    },
    {
      "cell_type": "code",
      "execution_count": null,
      "metadata": {
        "colab": {
          "background_save": true
        },
        "id": "9l_lqbKdgqtn"
      },
      "outputs": [],
      "source": [
        "import csv \n",
        "from pandas_datareader import data\n",
        "import matplotlib.pyplot as plt\n",
        "import pandas as pd\n",
        "import numpy as np"
      ]
    },
    {
      "cell_type": "code",
      "execution_count": null,
      "metadata": {
        "id": "r09aRrFShEml"
      },
      "outputs": [],
      "source": [
        "def buyAndHold(data_frame, is_plot=False):\n",
        "  \"\"\"\n",
        "  Buy and Hold strategy:\n",
        "  Inputs: \n",
        "          data_frame: pandas dataframe of the stock prices. It must have the \"Adj Close\" prices\n",
        "          is_plot: If true, this code will plot the Adj close price and show the buy and sell points.\n",
        "  output:\n",
        "          signal indicator: the series of indicators 1 to take the position, 0 for keep previous status and -1 to clear the position.\n",
        "\n",
        "  \"\"\"\n",
        "\n",
        "  close = data_frame['Adj Close']\n",
        "  status = 0\n",
        "  signal = []\n",
        "  for k in range(close.shape[0]):\n",
        "    if k == 0:\n",
        "      signal.append(1)\n",
        "    else:\n",
        "      signal.append(0)\n",
        "  signal = pd.Series(data=signal, index=data_frame.index)\n",
        "  buy_sig = close[signal == 1]\n",
        "  sell_sig = close[signal == -1]\n",
        "  if is_plot:\n",
        "    plt.figure(figsize=(15,10))\n",
        "    plt.plot(close)    \n",
        "    plt.plot(buy_sig, color=\"red\", marker=\"^\",linestyle=\"\")   \n",
        "    plt.plot(sell_sig, color=\"black\", marker=\"v\",linestyle=\"\")  \n",
        "    plt.legend([\"Adj Close\",\"Buy\", \"Sell\"])\n",
        "    plt.title(\"Buy and Hold\")\n",
        "    plt.grid()\n",
        "  return signal\n"
      ]
    },
    {
      "cell_type": "code",
      "execution_count": null,
      "metadata": {
        "id": "jlGxt1lji0bN"
      },
      "outputs": [],
      "source": [
        "def movingavg(data_frame, is_plot=False):\n",
        "  \"\"\"\n",
        "  Moving Average crossing strategy:\n",
        "  Inputs: \n",
        "          data_frame: pandas dataframe of the stock prices. It must have the \"Adj Close\" prices\n",
        "          is_plot: If true, this code will plot the Adj close price and show the buy and sell points.\n",
        "  output:\n",
        "          signal indicator: the series of indicators 1 to take the position, 0 for keep previous status and -1 to clear the position.\n",
        "\n",
        "  \"\"\"\n",
        "  long_win = 25\n",
        "  short_win = 10\n",
        "  close = data_frame['Adj Close'] \n",
        "  mu_long = close.rolling(long_win).mean()\n",
        "  mu_short = close.rolling(short_win).mean()\n",
        "  signal = []\n",
        "  status = 0\n",
        "  for k in range(close.shape[0]):\n",
        "    if ( mu_short[k] > mu_long[k]) and (status ==0):\n",
        "      signal.append(1)\n",
        "      status = 1\n",
        "    elif (mu_short[k] < mu_long[k]) and (status ==1):\n",
        "      signal.append(-1)\n",
        "      status = 0\n",
        "    else:\n",
        "      signal.append(0)\n",
        "\n",
        "  signal = pd.Series(data=signal, index=data_frame.index)\n",
        "  buy_sig = close[signal == 1]\n",
        "  sell_sig = close[signal == -1]\n",
        "  if is_plot:\n",
        "    plt.figure(figsize=(15,10))\n",
        "    plt.plot(close)    \n",
        "    plt.plot(mu_long)\n",
        "    plt.plot(mu_short)\n",
        "    plt.plot(buy_sig, color=\"red\", marker=\"^\",linestyle=\"\")   \n",
        "    plt.plot(sell_sig, color=\"black\", marker=\"v\",linestyle=\"\")  \n",
        "    plt.legend([\"Adj Close\",f\"MA({long_win})\", f\"MA({short_win})\", \"Buy\", \"Sell\"])\n",
        "    plt.title(\"Moving Average Crossing\")\n",
        "    plt.grid()\n",
        "  return signal\n"
      ]
    },
    {
      "cell_type": "code",
      "execution_count": null,
      "metadata": {
        "id": "829zOFUai8qs"
      },
      "outputs": [],
      "source": [
        "def bollinger(data_frame, is_plot=False):\n",
        "  \"\"\"\n",
        "  Bollinger Band strategy:\n",
        "  Inputs: \n",
        "          data_frame: pandas dataframe of the stock prices. It must have the \"Adj Close\" prices\n",
        "          is_plot: If true, this code will plot the Adj close price and show the buy and sell points.\n",
        "  output:\n",
        "          signal indicator: the series of indicators 1 to take the position, 0 for keep previous status and -1 to clear the position.\n",
        "\n",
        "  \"\"\"\n",
        "  close = data_frame['Adj Close']\n",
        "  win = 10 \n",
        "  ma = close.rolling(win).mean()\n",
        "  std = close.rolling(win).std()\n",
        "  up = ma + std\n",
        "  low = ma - std  \n",
        "  status = 0\n",
        "  signal = []\n",
        "  for k in range(close.shape[0]):\n",
        "    closek = close[k]\n",
        "    if (closek >  up[k]) and (status == 0): # buy\n",
        "      signal.append(1)\n",
        "      status = 1\n",
        "    elif (closek < low[k]) and (status == 1): # sell\n",
        "      signal.append(-1)\n",
        "      status = 0\n",
        "    else:\n",
        "      signal.append(0)\n",
        "\n",
        "  signal = pd.Series(data=signal, index=data_frame.index)\n",
        "  buy_sig = close[signal == 1]\n",
        "  sell_sig = close[signal == -1]\n",
        "  if is_plot:\n",
        "    plt.figure(figsize=(15,10))\n",
        "    plt.plot(close)\n",
        "    plt.plot(up)\n",
        "    plt.plot(low) \n",
        "    plt.plot(buy_sig, color=\"red\", marker=\"^\",linestyle=\"\")   \n",
        "    plt.plot(sell_sig, color=\"black\", marker=\"v\",linestyle=\"\")  \n",
        "    plt.legend([\"Adj Close\",\"High\", \"Low\", \"Buy\", \"Sell\"])\n",
        "    plt.title(\"Bollinger Bands\")\n",
        "    plt.grid()\n",
        "  return signal\n"
      ]
    },
    {
      "cell_type": "code",
      "execution_count": null,
      "metadata": {
        "id": "ud-gKOt7jIpd"
      },
      "outputs": [],
      "source": [
        "def rsi(data_frame, is_plot=False):\n",
        "  \"\"\"\n",
        "  Relative Signal Strength:\n",
        "  Inputs: \n",
        "          data_frame: pandas dataframe of the stock prices. It must have the \"Adj Close\" prices\n",
        "          is_plot: If true, this code will plot the Adj close price and show the buy and sell points.\n",
        "  output:\n",
        "          signal indicator: the series of indicators 1 to take the position, 0 for keep previous status and -1 to clear the position.\n",
        "\n",
        "  \"\"\"\n",
        "  window_length= 14\n",
        "  upv = 70\n",
        "  lowv= 40\n",
        "  close = data_frame['Adj Close']\n",
        "  delta = close.diff(1) \n",
        " \n",
        "  up, down = delta.copy(), delta.copy()\n",
        "  up[up < 0] = 0\n",
        "  down[down > 0] = 0\n",
        "  roll_up1 = up.ewm(span=window_length).mean()\n",
        "  roll_down1 = down.abs().ewm(span=window_length).mean()\n",
        "  # Calculate the RSI based on EWMA\n",
        "  RS1 = roll_up1 / roll_down1\n",
        "  RSI1 = 100.0 - (100.0 / (1.0 + RS1))\n",
        "  status = 0\n",
        "  signal = []\n",
        "  for k in range(close.shape[0]):\n",
        "    rsk = RSI1[k]\n",
        "    if (rsk < lowv) and (status == 0): # buy\n",
        "      signal.append(1)\n",
        "      status = 1\n",
        "    elif (rsk > upv) and (status == 1): # sell\n",
        "      signal.append(-1)\n",
        "      status = 0\n",
        "    else:\n",
        "      signal.append(0)\n",
        "\n",
        "  signal = pd.Series(data=signal, index=data_frame.index)\n",
        "  buy_sig = close[signal == 1]\n",
        "  sell_sig = close[signal == -1]\n",
        "\n",
        "  if is_plot:  \n",
        "    plt.figure(figsize=(15,10))\n",
        "    plt.subplot(2,1,1)\n",
        "    plt.plot(close)\n",
        "    plt.plot(buy_sig, color=\"red\", marker=\"^\",linestyle=\"\")   \n",
        "    plt.plot(sell_sig, color=\"black\", marker=\"v\",linestyle=\"\")  \n",
        "    plt.legend([\"Adj Close\",\"Buy\", \"Sell\"])\n",
        "    plt.grid()\n",
        "    plt.title(\"RSI\")\n",
        "    plt.subplot(2,1,2)\n",
        "    plt.plot(RSI1)\n",
        "    plt.plot(RSI1.index, upv*np.ones((close.shape[0],)),\"b--\")\n",
        "    plt.plot(RSI1.index, lowv*np.ones((close.shape[0],)),\"b--\")\n",
        "    plt.legend(['RSI', \"SELL Band\", \"BUY Band\"])\n",
        "    plt.grid()\n",
        "    plt.title(\"RSI Value\")\n",
        "  return signal\n"
      ]
    },
    {
      "cell_type": "code",
      "execution_count": null,
      "metadata": {
        "colab": {
          "base_uri": "https://localhost:8080/"
        },
        "id": "AwVUH3n3D10a",
        "outputId": "950a9ce6-2612-4a7e-9b4e-22c4c41fa6a9"
      },
      "outputs": [
        {
          "name": "stdout",
          "output_type": "stream",
          "text": [
            "          ADVANC       AOT       AWC  ...        TU       VGI       WHA\n",
            "ADVANC  0.000284  0.000247  0.000313  ...  0.000144  0.000212  0.000242\n",
            "AOT     0.000247  0.000997  0.000899  ...  0.000159  0.000641  0.000625\n",
            "AWC     0.000313  0.000899  0.001677  ...  0.000208  0.000879  0.000898\n",
            "BBL     0.000148  0.000539  0.000638  ...  0.000163  0.000457  0.000504\n",
            "BDMS    0.000198  0.000540  0.000666  ...  0.000147  0.000439  0.000482\n",
            "BEM     0.000221  0.000548  0.000651  ...  0.000187  0.000557  0.000540\n",
            "BGRIM   0.000285  0.000550  0.000643  ...  0.000254  0.000570  0.000578\n",
            "BH      0.000180  0.000374  0.000522  ...  0.000221  0.000320  0.000330\n",
            "BJC     0.000257  0.000478  0.000613  ...  0.000285  0.000461  0.000534\n",
            "BPP     0.000214  0.000471  0.000648  ...  0.000177  0.000580  0.000571\n",
            "BTS     0.000232  0.000602  0.000710  ...  0.000172  0.000607  0.000550\n",
            "CBG     0.000261  0.000474  0.000595  ...  0.000266  0.000652  0.000592\n",
            "CPALL   0.000123  0.000247  0.000336  ...  0.000105  0.000251  0.000238\n",
            "CPF     0.000221  0.000416  0.000502  ...  0.000268  0.000479  0.000488\n",
            "CPN     0.000275  0.000739  0.000890  ...  0.000246  0.000665  0.000724\n",
            "CRC     0.000287  0.000928  0.001141  ...  0.000238  0.000809  0.000800\n",
            "DTAC    0.000322  0.000458  0.000557  ...  0.000319  0.000435  0.000497\n",
            "EA      0.000264  0.000529  0.000598  ...  0.000217  0.000512  0.000567\n",
            "EGCO    0.000273  0.000521  0.000708  ...  0.000201  0.000462  0.000550\n",
            "GLOBAL  0.000155  0.000473  0.000697  ...  0.000130  0.000553  0.000586\n",
            "GPSC    0.000304  0.000600  0.000757  ...  0.000237  0.000564  0.000599\n",
            "GULF    0.000250  0.000492  0.000586  ...  0.000233  0.000495  0.000502\n",
            "HMPRO   0.000226  0.000583  0.000729  ...  0.000197  0.000562  0.000659\n",
            "INTUCH  0.000243  0.000277  0.000362  ...  0.000177  0.000251  0.000301\n",
            "IRPC    0.000248  0.000609  0.000726  ...  0.000161  0.000622  0.000687\n",
            "IVL     0.000286  0.000753  0.000962  ...  0.000302  0.000724  0.000804\n",
            "KBANK   0.000209  0.000708  0.000834  ...  0.000189  0.000544  0.000612\n",
            "KTB     0.000213  0.000574  0.000679  ...  0.000211  0.000469  0.000507\n",
            "KTC     0.000227  0.000515  0.000708  ...  0.000173  0.000577  0.000618\n",
            "LH      0.000210  0.000509  0.000673  ...  0.000221  0.000494  0.000571\n",
            "MINT    0.000243  0.001000  0.001160  ...  0.000102  0.000791  0.000838\n",
            "MTC     0.000211  0.000664  0.000787  ...  0.000100  0.000783  0.000668\n",
            "OSP     0.000249  0.000581  0.000718  ...  0.000223  0.000581  0.000555\n",
            "PTT     0.000254  0.000622  0.000749  ...  0.000188  0.000591  0.000616\n",
            "PTTEP   0.000301  0.000767  0.000921  ...  0.000295  0.000732  0.000739\n",
            "PTTGC   0.000282  0.000650  0.000852  ...  0.000290  0.000716  0.000826\n",
            "RATCH   0.000215  0.000424  0.000559  ...  0.000203  0.000384  0.000468\n",
            "SAWAD   0.000217  0.000672  0.000841  ...  0.000128  0.000754  0.000709\n",
            "SCB     0.000192  0.000599  0.000685  ...  0.000180  0.000477  0.000588\n",
            "SCC     0.000204  0.000449  0.000539  ...  0.000146  0.000416  0.000445\n",
            "SCGP    0.000036 -0.000056  0.000171  ...  0.000122  0.000232  0.000164\n",
            "TISCO   0.000148  0.000468  0.000526  ...  0.000132  0.000399  0.000417\n",
            "TMB     0.000305  0.000749  0.000945  ...  0.000311  0.000640  0.000713\n",
            "TOA     0.000152  0.000328  0.000471  ...  0.000132  0.000399  0.000433\n",
            "TOP     0.000304  0.000745  0.000890  ...  0.000227  0.000749  0.000810\n",
            "TRUE    0.000272  0.000374  0.000543  ...  0.000268  0.000418  0.000477\n",
            "TTW     0.000106  0.000229  0.000327  ...  0.000074  0.000219  0.000231\n",
            "TU      0.000144  0.000159  0.000208  ...  0.000650  0.000242  0.000283\n",
            "VGI     0.000212  0.000641  0.000879  ...  0.000242  0.001320  0.000747\n",
            "WHA     0.000242  0.000625  0.000898  ...  0.000283  0.000747  0.001275\n",
            "\n",
            "[50 rows x 50 columns]\n"
          ]
        }
      ],
      "source": [
        "name = [\"ADVANC\",\"AOT\",\"AWC\",\"BBL\",\"BDMS\",\"BEM\",\"BGRIM\",\"BH\",\"BJC\",\"BPP\",\"BTS\",\n",
        "        \"CBG\",\"CPALL\",\"CPF\",\"CPN\",\"CRC\",\"DTAC\",\"EA\",\"EGCO\",\"GLOBAL\",\"GPSC\",\"GULF\",\"HMPRO\",\"INTUCH\",\n",
        "        \"IRPC\",\"IVL\",\"KBANK\",\"KTB\",\"KTC\",\"LH\",\"MINT\",\"MTC\",\"OSP\",\"PTT\",\"PTTEP\",\"PTTGC\",\"RATCH\",\"SAWAD\",\n",
        "        \"SCB\",\"SCC\",\"SCGP\",\"TISCO\",\"TMB\",\"TOA\",\"TOP\",\"TRUE\",\"TTW\",\"TU\",\"VGI\",\"WHA\"]\n",
        "set50 = dict()\n",
        "for stock in name:\n",
        "  dataframe = data.DataReader(f\"{stock}.bk\",\n",
        "  data_source=\"yahoo\", \n",
        "  start='2020-01-01', \n",
        "  end='2020-12-31')\n",
        "  ret = dataframe['Adj Close'].pct_change(1).dropna()\n",
        "  set50[stock] = ret\n",
        "\n",
        "set50 = pd.DataFrame(set50)\n",
        "print(set50.cov())"
      ]
    },
    {
      "cell_type": "code",
      "execution_count": null,
      "metadata": {
        "id": "1re1Iq6A_beF"
      },
      "outputs": [],
      "source": [
        "def techicalTrading(stock_info, # dataframe of a stock\n",
        "                    indicator, # trade indicator\n",
        "                    initial_money=1000000 #Starting money\n",
        "                    ):\n",
        "  \"\"\"\n",
        "  Trader simulation:\n",
        "  Inputs: \n",
        "        stock_info: stock price data frames\n",
        "        indicator: time-series indicator: 1 for Buy, -1 for sell, 0 for nothing\n",
        "        initinal_money: initial money in the port. default 1M \n",
        "  output:\n",
        "        wealth: time-series money in the port\n",
        "  \"\"\"\n",
        "\n",
        "  num_dates, _ = stock_info.shape\n",
        "  status = \"NONE\" # Start with no poistion\n",
        "  stock= 0\n",
        "  money = initial_money\n",
        "  wealth = []\n",
        "  close = stock_info['Adj Close']\n",
        "  for k in range(num_dates):\n",
        "    indicatork = indicator[k]\n",
        "    if not np.isnan(indicatork): # if it is not NA\n",
        "      if (indicatork > 0) and ( status == \"NONE\"):\n",
        "        stock = money/close.values[k]\n",
        "        #print(f\"Buy at {close.values[k]}\")\n",
        "        money = 0\n",
        "        status = \"HOLD\"\n",
        "      elif (indicatork < 0) and ( status == \"HOLD\"):\n",
        "        money = stock * close.values[k]\n",
        "        stock =  0\n",
        "        #print(f\"Sell at {close.values[k]}\")\n",
        "        status = \"NONE\"\n",
        "    cur_wealth = money + stock * close.values[k]\n",
        "    wealth.append(cur_wealth)\n",
        "  wealth = pd.Series(data=wealth, index=stock_info.index)  \n",
        "  return wealth"
      ]
    },
    {
      "cell_type": "markdown",
      "metadata": {
        "id": "52rX71d2NEIj"
      },
      "source": [
        "Buy And Hold"
      ]
    },
    {
      "cell_type": "code",
      "execution_count": null,
      "metadata": {
        "colab": {
          "base_uri": "https://localhost:8080/",
          "height": 68
        },
        "id": "B7-MoC5p9P8z",
        "outputId": "cf60975c-d7e3-42ee-93ae-ddae9b0058f5"
      },
      "outputs": [
        {
          "name": "stdout",
          "output_type": "stream",
          "text": [
            "Average annual return is 0.41%\n",
            "Average annual STD is 6.42\n"
          ]
        },
        {
          "data": {
            "text/plain": [
              "<Figure size 1080x1080 with 0 Axes>"
            ]
          },
          "metadata": {
            "tags": []
          },
          "output_type": "display_data"
        }
      ],
      "source": [
        "dataframe = data.DataReader(\"ADVANC.BK\", \n",
        "data_source =\"yahoo\",\n",
        "start = \"2020-01-01\",\n",
        "end =  \"2020-12-31\") \n",
        "plt.figure(figsize=(15,15))\n",
        "indicator = buyAndHold(dataframe, is_plot=False)\n",
        "print(f\"Average annual return is {indicator.mean()*100.0:2.2f}%\")\n",
        "print(f\"Average annual STD is {indicator.std()*100.0:2.2f}\")"
      ]
    },
    {
      "cell_type": "markdown",
      "metadata": {
        "id": "D2ajDgL-NKfz"
      },
      "source": [
        "Moving Average Crossing"
      ]
    },
    {
      "cell_type": "code",
      "execution_count": null,
      "metadata": {
        "colab": {
          "base_uri": "https://localhost:8080/",
          "height": 68
        },
        "id": "M63hzVLXMKKx",
        "outputId": "c854d8c4-85d7-4e01-ed20-3f56a9f6abb9"
      },
      "outputs": [
        {
          "name": "stdout",
          "output_type": "stream",
          "text": [
            "Average annual return is 0.00%\n",
            "Average annual STD is 24.05\n"
          ]
        },
        {
          "data": {
            "text/plain": [
              "<Figure size 1080x1080 with 0 Axes>"
            ]
          },
          "metadata": {
            "tags": []
          },
          "output_type": "display_data"
        }
      ],
      "source": [
        "dataframe = data.DataReader(\"ADVANC.BK\", \n",
        "data_source =\"yahoo\",\n",
        "start = \"2020-01-01\",\n",
        "end =  \"2020-12-31\") \n",
        "plt.figure(figsize=(15,15))\n",
        "indicator = movingavg(dataframe, is_plot=False)\n",
        "print(f\"Average annual return is {indicator.mean()*100.0:2.2f}%\")\n",
        "print(f\"Average annual STD is {indicator.std()*100.0:2.2f}\")"
      ]
    },
    {
      "cell_type": "markdown",
      "metadata": {
        "id": "a5_h2kl8RClq"
      },
      "source": [
        " Bollinger Band"
      ]
    },
    {
      "cell_type": "code",
      "execution_count": null,
      "metadata": {
        "colab": {
          "base_uri": "https://localhost:8080/",
          "height": 68
        },
        "id": "1yTKGSTsRDu6",
        "outputId": "7af78435-52d3-4465-d5f5-b72c11958835"
      },
      "outputs": [
        {
          "name": "stdout",
          "output_type": "stream",
          "text": [
            "Average annual return is 0.00%\n",
            "Average annual STD is 30.15\n"
          ]
        },
        {
          "data": {
            "text/plain": [
              "<Figure size 1080x1080 with 0 Axes>"
            ]
          },
          "metadata": {
            "tags": []
          },
          "output_type": "display_data"
        }
      ],
      "source": [
        "dataframe = data.DataReader(\"ADVANC.BK\", \n",
        "data_source =\"yahoo\",\n",
        "start = \"2020-01-01\",\n",
        "end =  \"2020-12-31\") \n",
        "plt.figure(figsize=(15,15))\n",
        "indicator = bollinger(dataframe, is_plot=False)\n",
        "print(f\"Average annual return is {indicator.mean()*100.0:2.2f}%\")\n",
        "print(f\"Average annual STD is {indicator.std()*100.0:2.2f}\")"
      ]
    },
    {
      "cell_type": "markdown",
      "metadata": {
        "id": "Qm_28mXARdzx"
      },
      "source": [
        "RSI"
      ]
    },
    {
      "cell_type": "code",
      "execution_count": null,
      "metadata": {
        "colab": {
          "base_uri": "https://localhost:8080/",
          "height": 68
        },
        "id": "47U2hTYmRi9h",
        "outputId": "fb350141-97c0-4292-dae2-98804cebd0b2"
      },
      "outputs": [
        {
          "name": "stdout",
          "output_type": "stream",
          "text": [
            "Average annual return is 0.41%\n",
            "Average annual STD is 21.32\n"
          ]
        },
        {
          "data": {
            "text/plain": [
              "<Figure size 1080x1080 with 0 Axes>"
            ]
          },
          "metadata": {
            "tags": []
          },
          "output_type": "display_data"
        }
      ],
      "source": [
        "dataframe = data.DataReader(\"ADVANC.BK\", \n",
        "data_source =\"yahoo\",\n",
        "start = \"2020-01-01\",\n",
        "end =  \"2020-12-31\") \n",
        "plt.figure(figsize=(15,15))\n",
        "indicator = rsi(dataframe, is_plot=False)\n",
        "print(f\"Average annual return is {indicator.mean()*100.0:2.2f}%\")\n",
        "print(f\"Average annual STD is {indicator.std()*100.0:2.2f}\")"
      ]
    },
    {
      "cell_type": "markdown",
      "metadata": {
        "id": "MXffH8osXITL"
      },
      "source": [
        "# Question 2"
      ]
    },
    {
      "cell_type": "markdown",
      "metadata": {
        "id": "sRG70PK4aITa"
      },
      "source": [
        "Question 2: Compute 95% confidence interval of the average annual return for each strategies.\n",
        "\n",
        "1.Specify the type of statistics used in computing the confidence interval ___z-statistics (z-statistics or t-statistics)\n",
        "\n",
        "\n",
        "2..95% Confidence interval for Buy and hold is _____.\n",
        "\n",
        "\n",
        "3.95% Confidence interval for moving average crossing is _____.\n",
        "\n",
        "\n",
        "4.95% Confidence interval for Bollinger Band is _____.\n",
        "\n",
        "\n",
        "5.95% Confidence interval for RSI is _____."
      ]
    },
    {
      "cell_type": "code",
      "execution_count": null,
      "metadata": {
        "id": "IeXSlSJ_aYVy"
      },
      "outputs": [],
      "source": [
        "import scipy.stats as st\n",
        "from scipy.stats import norm"
      ]
    },
    {
      "cell_type": "code",
      "execution_count": null,
      "metadata": {
        "id": "n48kL_ageG4i"
      },
      "outputs": [],
      "source": [
        "indicator = buyAndHold(dataframe, is_plot=False)\n",
        "\n",
        "ret = indicator.pct_change(1).dropna() \n",
        "num = indicator.count()\n",
        "mean = indicator.mean()\n",
        "std = indicator.std()\n",
        "\n",
        "Interval = st.norm.interval(0.95, loc=mean, scale=std/np.sqrt(num))\n",
        "print(f\"95% Confidence interval for Buy and hold is {Interval}\")"
      ]
    }
  ],
  "metadata": {
    "colab": {
      "collapsed_sections": [],
      "provenance": [],
      "toc_visible": true
    },
    "kernelspec": {
      "display_name": "Python 3",
      "name": "python3"
    }
  },
  "nbformat": 4,
  "nbformat_minor": 0
}