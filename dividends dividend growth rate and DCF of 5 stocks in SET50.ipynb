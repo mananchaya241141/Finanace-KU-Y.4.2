{
  "cells": [
    {
      "cell_type": "markdown",
      "metadata": {
        "id": "9INL7hRSP3vd"
      },
      "source": [
        "** Follow the above steps to find dividends, dividend growth rate, and DCF of 5 stocks in SET50, namely\n",
        "\n",
        "PTT,\n",
        "AOT,\n",
        "KBANK,\n",
        "CPALL,\n",
        "ADVANC \n",
        "\n",
        "\n",
        "Here, you will use only the data from 2016-01-01 to 2020-12-31 **"
      ]
    },
    {
      "cell_type": "markdown",
      "metadata": {
        "id": "IwehPGkqxdAc"
      },
      "source": [
        "# PTT"
      ]
    },
    {
      "cell_type": "code",
      "execution_count": null,
      "metadata": {
        "colab": {
          "base_uri": "https://localhost:8080/",
          "height": 235
        },
        "id": "iE4SVXHjse1j",
        "outputId": "30ba7c2d-5f8c-4413-9f8d-828faf388005"
      },
      "outputs": [
        {
          "data": {
            "text/html": [
              "<div>\n",
              "<style scoped>\n",
              "    .dataframe tbody tr th:only-of-type {\n",
              "        vertical-align: middle;\n",
              "    }\n",
              "\n",
              "    .dataframe tbody tr th {\n",
              "        vertical-align: top;\n",
              "    }\n",
              "\n",
              "    .dataframe thead th {\n",
              "        text-align: right;\n",
              "    }\n",
              "</style>\n",
              "<table border=\"1\" class=\"dataframe\">\n",
              "  <thead>\n",
              "    <tr style=\"text-align: right;\">\n",
              "      <th></th>\n",
              "      <th>High</th>\n",
              "      <th>Low</th>\n",
              "      <th>Open</th>\n",
              "      <th>Close</th>\n",
              "      <th>Volume</th>\n",
              "      <th>Adj Close</th>\n",
              "    </tr>\n",
              "    <tr>\n",
              "      <th>Date</th>\n",
              "      <th></th>\n",
              "      <th></th>\n",
              "      <th></th>\n",
              "      <th></th>\n",
              "      <th></th>\n",
              "      <th></th>\n",
              "    </tr>\n",
              "  </thead>\n",
              "  <tbody>\n",
              "    <tr>\n",
              "      <th>2016-01-04</th>\n",
              "      <td>25.000000</td>\n",
              "      <td>23.799999</td>\n",
              "      <td>24.799999</td>\n",
              "      <td>23.799999</td>\n",
              "      <td>57964000.0</td>\n",
              "      <td>19.659714</td>\n",
              "    </tr>\n",
              "    <tr>\n",
              "      <th>2016-01-05</th>\n",
              "      <td>24.100000</td>\n",
              "      <td>22.500000</td>\n",
              "      <td>23.900000</td>\n",
              "      <td>22.700001</td>\n",
              "      <td>88229000.0</td>\n",
              "      <td>18.751074</td>\n",
              "    </tr>\n",
              "    <tr>\n",
              "      <th>2016-01-06</th>\n",
              "      <td>22.900000</td>\n",
              "      <td>22.200001</td>\n",
              "      <td>22.500000</td>\n",
              "      <td>22.799999</td>\n",
              "      <td>65320000.0</td>\n",
              "      <td>18.833673</td>\n",
              "    </tr>\n",
              "    <tr>\n",
              "      <th>2016-01-07</th>\n",
              "      <td>21.600000</td>\n",
              "      <td>20.600000</td>\n",
              "      <td>21.500000</td>\n",
              "      <td>20.900000</td>\n",
              "      <td>182186000.0</td>\n",
              "      <td>17.264202</td>\n",
              "    </tr>\n",
              "    <tr>\n",
              "      <th>2016-01-08</th>\n",
              "      <td>21.700001</td>\n",
              "      <td>20.900000</td>\n",
              "      <td>21.299999</td>\n",
              "      <td>21.500000</td>\n",
              "      <td>108961000.0</td>\n",
              "      <td>17.759827</td>\n",
              "    </tr>\n",
              "  </tbody>\n",
              "</table>\n",
              "</div>"
            ],
            "text/plain": [
              "                 High        Low       Open      Close       Volume  Adj Close\n",
              "Date                                                                          \n",
              "2016-01-04  25.000000  23.799999  24.799999  23.799999   57964000.0  19.659714\n",
              "2016-01-05  24.100000  22.500000  23.900000  22.700001   88229000.0  18.751074\n",
              "2016-01-06  22.900000  22.200001  22.500000  22.799999   65320000.0  18.833673\n",
              "2016-01-07  21.600000  20.600000  21.500000  20.900000  182186000.0  17.264202\n",
              "2016-01-08  21.700001  20.900000  21.299999  21.500000  108961000.0  17.759827"
            ]
          },
          "execution_count": 7,
          "metadata": {
            "tags": []
          },
          "output_type": "execute_result"
        }
      ],
      "source": [
        "import pandas as pd\n",
        "import pandas_datareader as reader\n",
        "import numpy as np\n",
        "import matplotlib.pyplot as plt\n",
        "apple = reader.DataReader(\"PTT.bk\",\n",
        "data_source=\"yahoo\", \n",
        "start='2016-01-01', # started date \n",
        "end='2020-12-31')  # ended date\n",
        "apple.head()"
      ]
    },
    {
      "cell_type": "code",
      "execution_count": null,
      "metadata": {
        "colab": {
          "base_uri": "https://localhost:8080/",
          "height": 894
        },
        "id": "bNHIGnjFtabm",
        "outputId": "8f46f3f4-c7db-4d17-d1f3-e2efc429501c"
      },
      "outputs": [
        {
          "data": {
            "text/plain": [
              "Text(0, 0.5, 'Difference in Change')"
            ]
          },
          "execution_count": 9,
          "metadata": {
            "tags": []
          },
          "output_type": "execute_result"
        },
        {
          "data": {
            "image/png": "[encoded data removed]",
            "text/plain": [
              "<Figure size 1080x1080 with 1 Axes>"
            ]
          },
          "metadata": {
            "tags": []
          },
          "output_type": "display_data"
        }
      ],
      "source": [
        "adj_close = apple['Adj Close'] # adjusted close price\n",
        "pct_adj_close = adj_close.pct_change(1) # find daily percent changes \n",
        "close = apple['Close'] # close price\n",
        "pct_close = close.pct_change(1) # find daily percent changes \n",
        "plt.figure(figsize=(15,15)) # adjusted the size of graph \n",
        "plt.plot(pct_close- pct_adj_close, \"o\") # plot the graph\n",
        "plt.grid() # create the grid in graph\n",
        "plt.xlabel(\"Date\") # date for X axis\n",
        "plt.ylabel(\"Difference in Change\") # difference in cahnge for Y axis "
      ]
    },
    {
      "cell_type": "code",
      "execution_count": null,
      "metadata": {
        "colab": {
          "base_uri": "https://localhost:8080/"
        },
        "id": "LHYsBbq1577G",
        "outputId": "1113006e-d129-4a58-a908-c1fcf6670766"
      },
      "outputs": [
        {
          "name": "stdout",
          "output_type": "stream",
          "text": [
            "The dividens are paid out on:\n",
            "2016-03-03\n",
            "2016-08-31\n",
            "2017-03-29\n",
            "2017-08-31\n",
            "2018-03-06\n",
            "2018-10-11\n",
            "2019-03-06\n",
            "2019-10-10\n",
            "2020-03-04\n",
            "2020-09-30\n"
          ]
        }
      ],
      "source": [
        "delta = pct_close- pct_adj_close # sum of daily percentage changes close price and adjust close price\n",
        "threshold = -0.001 # We pick threshold = -0.001 from the graph.\n",
        "delta = delta[delta<threshold] # screen only the location where differences is less than -0.001\n",
        "print(\"The dividens are paid out on:\")\n",
        "for date in delta.index:\n",
        "  print(date.date())"
      ]
    },
    {
      "cell_type": "code",
      "execution_count": null,
      "metadata": {
        "colab": {
          "base_uri": "https://localhost:8080/"
        },
        "id": "NqpyixBI6H8W",
        "outputId": "12230698-40c6-43bc-e54e-06a7307b6c5b"
      },
      "outputs": [
        {
          "name": "stdout",
          "output_type": "stream",
          "text": [
            "Date\n",
            "2016-03-03    0.404463\n",
            "2016-08-31    0.601726\n",
            "2017-03-29    1.002538\n",
            "2017-08-31    0.810151\n",
            "2018-03-06    1.204359\n",
            "2018-10-11    0.766922\n",
            "2019-03-06    1.198742\n",
            "2019-10-10    0.892978\n",
            "2020-03-04    1.095838\n",
            "2020-09-30    0.174176\n",
            "dtype: float64\n"
          ]
        }
      ],
      "source": [
        "dividends =[]\n",
        "for date in delta.index:\n",
        "  k = np.nonzero(apple.index==date)[0][0] # find the row where dividends have been paid.\n",
        "  close_before = close[k-1]  # list that assign close k-1 for close_before\n",
        "  pct_close_div = pct_close[k] \n",
        "  pct_adj_div = pct_adj_close[k] \n",
        "  dividend = close_before * ( pct_adj_div - pct_close_div)\n",
        "  dividends.append(dividend)\n",
        "dividends = pd.Series(dividends, index=delta.index)\n",
        "print(dividends)"
      ]
    },
    {
      "cell_type": "code",
      "execution_count": null,
      "metadata": {
        "colab": {
          "base_uri": "https://localhost:8080/"
        },
        "id": "lYKkshh8-01V",
        "outputId": "02eeabe6-4f91-4196-e1de-a8755a2ddd32"
      },
      "outputs": [
        {
          "name": "stdout",
          "output_type": "stream",
          "text": [
            "Yearly dividends: \n",
            "2016    1.006189\n",
            "2017    1.812689\n",
            "2018    1.971280\n",
            "2019    2.091720\n",
            "2020    1.270014\n",
            "dtype: float64\n",
            "Dividend growth rate: \n",
            "2017    0.801539\n",
            "2018    0.087489\n",
            "2019    0.061097\n",
            "2020   -0.392837\n",
            "dtype: float64\n",
            "Dividends growth rate is 7.4293239795086174 %.\n"
          ]
        }
      ],
      "source": [
        "yearly_dividends = []\n",
        "for y in range(2016,2021): # Find dividens growth rate in the last 5 years.\n",
        "  dividend_year = dividends[dividends.index.year == y] #filter only one year\n",
        "  yearly_dividends.append(dividend_year.sum()) # find total dividens per year\n",
        "yearly_dividends = pd.Series(yearly_dividends, index=np.arange(2016,2021))\n",
        "dividend_growth = yearly_dividends.pct_change(1).dropna()\n",
        "print(\"Yearly dividends: \")\n",
        "print(yearly_dividends)\n",
        "print(\"Dividend growth rate: \")\n",
        "print(dividend_growth)\n",
        "g = dividend_growth.median()\n",
        "print(f\"Dividends growth rate is {g*100} %.\")"
      ]
    },
    {
      "cell_type": "code",
      "execution_count": null,
      "metadata": {
        "colab": {
          "base_uri": "https://localhost:8080/"
        },
        "id": "NFV3xIJM-_0n",
        "outputId": "641a58a8-31e6-4d4c-f197-66b2b444db44"
      },
      "outputs": [
        {
          "name": "stdout",
          "output_type": "stream",
          "text": [
            "The current apple stock price is 42.5.\n",
            "From the Discounted Cash Flow model, Apple Stock price is 49.403885044484056.\n"
          ]
        }
      ],
      "source": [
        "r = 0.1 # Assume that we can find the risk-free security at 10%\n",
        "S_apple = yearly_dividends[2020]/(r - g) # D1/(r - g)\n",
        "print(f\"The current apple stock price is {adj_close.iloc[-1]}.\") \n",
        "print(f\"From the Discounted Cash Flow model, Apple Stock price is {S_apple}.\")"
      ]
    },
    {
      "cell_type": "markdown",
      "metadata": {
        "id": "dca_aTMxp00b"
      },
      "source": [
        "#AOT"
      ]
    },
    {
      "cell_type": "code",
      "execution_count": null,
      "metadata": {
        "colab": {
          "base_uri": "https://localhost:8080/",
          "height": 235
        },
        "id": "C_BnesD_p8mF",
        "outputId": "dffcabf9-6ad3-4a6b-991e-05a529387c7d"
      },
      "outputs": [
        {
          "data": {
            "text/html": [
              "<div>\n",
              "<style scoped>\n",
              "    .dataframe tbody tr th:only-of-type {\n",
              "        vertical-align: middle;\n",
              "    }\n",
              "\n",
              "    .dataframe tbody tr th {\n",
              "        vertical-align: top;\n",
              "    }\n",
              "\n",
              "    .dataframe thead th {\n",
              "        text-align: right;\n",
              "    }\n",
              "</style>\n",
              "<table border=\"1\" class=\"dataframe\">\n",
              "  <thead>\n",
              "    <tr style=\"text-align: right;\">\n",
              "      <th></th>\n",
              "      <th>High</th>\n",
              "      <th>Low</th>\n",
              "      <th>Open</th>\n",
              "      <th>Close</th>\n",
              "      <th>Volume</th>\n",
              "      <th>Adj Close</th>\n",
              "    </tr>\n",
              "    <tr>\n",
              "      <th>Date</th>\n",
              "      <th></th>\n",
              "      <th></th>\n",
              "      <th></th>\n",
              "      <th></th>\n",
              "      <th></th>\n",
              "      <th></th>\n",
              "    </tr>\n",
              "  </thead>\n",
              "  <tbody>\n",
              "    <tr>\n",
              "      <th>2016-01-04</th>\n",
              "      <td>35.099998</td>\n",
              "      <td>33.900002</td>\n",
              "      <td>34.900002</td>\n",
              "      <td>34.299999</td>\n",
              "      <td>30288000.0</td>\n",
              "      <td>32.061298</td>\n",
              "    </tr>\n",
              "    <tr>\n",
              "      <th>2016-01-05</th>\n",
              "      <td>34.500000</td>\n",
              "      <td>33.900002</td>\n",
              "      <td>34.400002</td>\n",
              "      <td>34.000000</td>\n",
              "      <td>31804000.0</td>\n",
              "      <td>31.780874</td>\n",
              "    </tr>\n",
              "    <tr>\n",
              "      <th>2016-01-06</th>\n",
              "      <td>34.299999</td>\n",
              "      <td>33.799999</td>\n",
              "      <td>34.000000</td>\n",
              "      <td>34.000000</td>\n",
              "      <td>27878000.0</td>\n",
              "      <td>31.780874</td>\n",
              "    </tr>\n",
              "    <tr>\n",
              "      <th>2016-01-07</th>\n",
              "      <td>33.799999</td>\n",
              "      <td>33.299999</td>\n",
              "      <td>33.799999</td>\n",
              "      <td>33.700001</td>\n",
              "      <td>30974000.0</td>\n",
              "      <td>31.500456</td>\n",
              "    </tr>\n",
              "    <tr>\n",
              "      <th>2016-01-08</th>\n",
              "      <td>34.099998</td>\n",
              "      <td>33.599998</td>\n",
              "      <td>33.900002</td>\n",
              "      <td>33.799999</td>\n",
              "      <td>27068000.0</td>\n",
              "      <td>31.593922</td>\n",
              "    </tr>\n",
              "  </tbody>\n",
              "</table>\n",
              "</div>"
            ],
            "text/plain": [
              "                 High        Low       Open      Close      Volume  Adj Close\n",
              "Date                                                                         \n",
              "2016-01-04  35.099998  33.900002  34.900002  34.299999  30288000.0  32.061298\n",
              "2016-01-05  34.500000  33.900002  34.400002  34.000000  31804000.0  31.780874\n",
              "2016-01-06  34.299999  33.799999  34.000000  34.000000  27878000.0  31.780874\n",
              "2016-01-07  33.799999  33.299999  33.799999  33.700001  30974000.0  31.500456\n",
              "2016-01-08  34.099998  33.599998  33.900002  33.799999  27068000.0  31.593922"
            ]
          },
          "execution_count": 15,
          "metadata": {
            "tags": []
          },
          "output_type": "execute_result"
        }
      ],
      "source": [
        "import pandas as pd\n",
        "import pandas_datareader as reader\n",
        "import numpy as np\n",
        "import matplotlib.pyplot as plt\n",
        "apple = reader.DataReader(\"AOT.bk\",\n",
        "data_source=\"yahoo\", \n",
        "start='2016-01-01', # started date \n",
        "end='2020-12-31')  # ended date\n",
        "apple.head()"
      ]
    },
    {
      "cell_type": "code",
      "execution_count": null,
      "metadata": {
        "colab": {
          "base_uri": "https://localhost:8080/",
          "height": 894
        },
        "id": "SLfQx3gZrsR7",
        "outputId": "fcb432d4-7570-4f14-fffd-d0f3b4a14893"
      },
      "outputs": [
        {
          "data": {
            "text/plain": [
              "Text(0, 0.5, 'Difference in Change')"
            ]
          },
          "execution_count": 16,
          "metadata": {
            "tags": []
          },
          "output_type": "execute_result"
        },
        {
          "data": {
            "image/png": "[encoded data removed]",
            "text/plain": [
              "<Figure size 1080x1080 with 1 Axes>"
            ]
          },
          "metadata": {
            "tags": []
          },
          "output_type": "display_data"
        }
      ],
      "source": [
        "adj_close = apple['Adj Close'] # adjusted close price\n",
        "pct_adj_close = adj_close.pct_change(1) # find daily percent changes \n",
        "close = apple['Close'] # close price\n",
        "pct_close = close.pct_change(1) # find daily percent changes \n",
        "plt.figure(figsize=(15,15)) # adjusted the size of graph \n",
        "plt.plot(pct_close- pct_adj_close, \"o\") # plot the graph\n",
        "plt.grid() # create the grid in graph\n",
        "plt.xlabel(\"Date\") # date for X axis\n",
        "plt.ylabel(\"Difference in Change\") # difference in cahnge for Y axis "
      ]
    },
    {
      "cell_type": "code",
      "execution_count": null,
      "metadata": {
        "colab": {
          "base_uri": "https://localhost:8080/"
        },
        "id": "ChLKYVfgtaGq",
        "outputId": "25b15199-fc8d-4ceb-ee4c-6ed99dfff95b"
      },
      "outputs": [
        {
          "name": "stdout",
          "output_type": "stream",
          "text": [
            "The dividens are paid out on:\n",
            "2016-12-08\n",
            "2017-12-12\n",
            "2018-12-13\n",
            "2019-12-12\n",
            "2020-12-04\n",
            "2020-12-08\n"
          ]
        }
      ],
      "source": [
        "delta = pct_close- pct_adj_close # sum of daily percentage changes close price and adjust close price\n",
        "threshold = -0.001 # We pick threshold = -0.001 from the graph.\n",
        "delta = delta[delta<threshold] # screen only the location where differences is less than -0.001\n",
        "print(\"The dividens are paid out on:\")\n",
        "for date in delta.index:\n",
        "  print(date.date())"
      ]
    },
    {
      "cell_type": "code",
      "execution_count": null,
      "metadata": {
        "colab": {
          "base_uri": "https://localhost:8080/"
        },
        "id": "oM7mloxyv8ie",
        "outputId": "f786b7b9-fe6b-47d7-b192-290f3397b437"
      },
      "outputs": [
        {
          "name": "stdout",
          "output_type": "stream",
          "text": [
            "Date\n",
            "2016-12-08    0.687920\n",
            "2017-12-12    0.868510\n",
            "2018-12-13    1.046688\n",
            "2019-12-12    1.079299\n",
            "2020-12-04    0.194971\n",
            "2020-12-08    0.194144\n",
            "dtype: float64\n"
          ]
        }
      ],
      "source": [
        "dividends =[]\n",
        "for date in delta.index:\n",
        "  k = np.nonzero(apple.index==date)[0][0] # find the row where dividends have been paid.\n",
        "  close_before = close[k-1]  # list that assign close k-1 for close_before\n",
        "  pct_close_div = pct_close[k] \n",
        "  pct_adj_div = pct_adj_close[k] \n",
        "  dividend = close_before * ( pct_adj_div - pct_close_div)\n",
        "  dividends.append(dividend)\n",
        "dividends = pd.Series(dividends, index=delta.index)\n",
        "print(dividends)"
      ]
    },
    {
      "cell_type": "code",
      "execution_count": null,
      "metadata": {
        "colab": {
          "base_uri": "https://localhost:8080/"
        },
        "id": "ucLDNaFAwIqC",
        "outputId": "07cc6f32-d670-4f64-d61c-0d6fff323c18"
      },
      "outputs": [
        {
          "name": "stdout",
          "output_type": "stream",
          "text": [
            "Yearly dividends: \n",
            "2016    0.687920\n",
            "2017    0.868510\n",
            "2018    1.046688\n",
            "2019    1.079299\n",
            "2020    0.389115\n",
            "dtype: float64\n",
            "Dividend growth rate: \n",
            "2017    0.262516\n",
            "2018    0.205153\n",
            "2019    0.031157\n",
            "2020   -0.639475\n",
            "dtype: float64\n",
            "Dividends growth rate is 11.815492588762034 %.\n"
          ]
        }
      ],
      "source": [
        "yearly_dividends = []\n",
        "for y in range(2016,2021): # Find dividens growth rate in the last 5 years.\n",
        "  dividend_year = dividends[dividends.index.year == y] #filter only one year\n",
        "  yearly_dividends.append(dividend_year.sum()) # find total dividens per year\n",
        "yearly_dividends = pd.Series(yearly_dividends, index=np.arange(2016,2021))\n",
        "dividend_growth = yearly_dividends.pct_change(1).dropna()\n",
        "print(\"Yearly dividends: \")\n",
        "print(yearly_dividends)\n",
        "print(\"Dividend growth rate: \")\n",
        "print(dividend_growth)\n",
        "g = dividend_growth.median()\n",
        "print(f\"Dividends growth rate is {g*100} %.\")"
      ]
    },
    {
      "cell_type": "code",
      "execution_count": null,
      "metadata": {
        "colab": {
          "background_save": true,
          "base_uri": "https://localhost:8080/"
        },
        "id": "WJ44PBIXwK58",
        "outputId": "3a331a2b-f52e-4470-ae70-583ea17fd73d"
      },
      "outputs": [
        {
          "name": "stdout",
          "output_type": "stream",
          "text": [
            "The current apple stock price is 62.25.\n",
            "From the Discounted Cash Flow model, Apple Stock price is -21.43301307153856.\n"
          ]
        }
      ],
      "source": [
        "r = 0.1 # Assume that we can find the risk-free security at 10%\n",
        "S_apple = yearly_dividends[2020]/(r - g) # D1/(r - g)\n",
        "print(f\"The current apple stock price is {adj_close.iloc[-1]}.\") # \n",
        "print(f\"From the Discounted Cash Flow model, Apple Stock price is {S_apple}.\")"
      ]
    },
    {
      "cell_type": "markdown",
      "metadata": {
        "id": "pivtwJ7NzJNy"
      },
      "source": [
        "#KBANK"
      ]
    },
    {
      "cell_type": "code",
      "execution_count": null,
      "metadata": {
        "colab": {
          "base_uri": "https://localhost:8080/",
          "height": 235
        },
        "id": "eiQXasPkzLJt",
        "outputId": "2fc27e8c-b848-4bbd-90d8-6e7a2588d331"
      },
      "outputs": [
        {
          "data": {
            "text/html": [
              "<div>\n",
              "<style scoped>\n",
              "    .dataframe tbody tr th:only-of-type {\n",
              "        vertical-align: middle;\n",
              "    }\n",
              "\n",
              "    .dataframe tbody tr th {\n",
              "        vertical-align: top;\n",
              "    }\n",
              "\n",
              "    .dataframe thead th {\n",
              "        text-align: right;\n",
              "    }\n",
              "</style>\n",
              "<table border=\"1\" class=\"dataframe\">\n",
              "  <thead>\n",
              "    <tr style=\"text-align: right;\">\n",
              "      <th></th>\n",
              "      <th>High</th>\n",
              "      <th>Low</th>\n",
              "      <th>Open</th>\n",
              "      <th>Close</th>\n",
              "      <th>Volume</th>\n",
              "      <th>Adj Close</th>\n",
              "    </tr>\n",
              "    <tr>\n",
              "      <th>Date</th>\n",
              "      <th></th>\n",
              "      <th></th>\n",
              "      <th></th>\n",
              "      <th></th>\n",
              "      <th></th>\n",
              "      <th></th>\n",
              "    </tr>\n",
              "  </thead>\n",
              "  <tbody>\n",
              "    <tr>\n",
              "      <th>2016-01-04</th>\n",
              "      <td>150.0</td>\n",
              "      <td>146.0</td>\n",
              "      <td>150.0</td>\n",
              "      <td>147.5</td>\n",
              "      <td>8013300.0</td>\n",
              "      <td>129.251404</td>\n",
              "    </tr>\n",
              "    <tr>\n",
              "      <th>2016-01-05</th>\n",
              "      <td>148.0</td>\n",
              "      <td>145.0</td>\n",
              "      <td>147.5</td>\n",
              "      <td>146.0</td>\n",
              "      <td>8045800.0</td>\n",
              "      <td>127.936928</td>\n",
              "    </tr>\n",
              "    <tr>\n",
              "      <th>2016-01-06</th>\n",
              "      <td>149.0</td>\n",
              "      <td>145.5</td>\n",
              "      <td>146.0</td>\n",
              "      <td>148.0</td>\n",
              "      <td>5617300.0</td>\n",
              "      <td>129.689514</td>\n",
              "    </tr>\n",
              "    <tr>\n",
              "      <th>2016-01-07</th>\n",
              "      <td>146.5</td>\n",
              "      <td>144.0</td>\n",
              "      <td>145.5</td>\n",
              "      <td>144.0</td>\n",
              "      <td>8933200.0</td>\n",
              "      <td>126.184387</td>\n",
              "    </tr>\n",
              "    <tr>\n",
              "      <th>2016-01-08</th>\n",
              "      <td>147.0</td>\n",
              "      <td>145.0</td>\n",
              "      <td>145.0</td>\n",
              "      <td>146.5</td>\n",
              "      <td>6479200.0</td>\n",
              "      <td>128.375076</td>\n",
              "    </tr>\n",
              "  </tbody>\n",
              "</table>\n",
              "</div>"
            ],
            "text/plain": [
              "             High    Low   Open  Close     Volume   Adj Close\n",
              "Date                                                         \n",
              "2016-01-04  150.0  146.0  150.0  147.5  8013300.0  129.251404\n",
              "2016-01-05  148.0  145.0  147.5  146.0  8045800.0  127.936928\n",
              "2016-01-06  149.0  145.5  146.0  148.0  5617300.0  129.689514\n",
              "2016-01-07  146.5  144.0  145.5  144.0  8933200.0  126.184387\n",
              "2016-01-08  147.0  145.0  145.0  146.5  6479200.0  128.375076"
            ]
          },
          "execution_count": 7,
          "metadata": {
            "tags": []
          },
          "output_type": "execute_result"
        }
      ],
      "source": [
        "import pandas as pd\n",
        "import pandas_datareader as reader\n",
        "import numpy as np\n",
        "import matplotlib.pyplot as plt\n",
        "apple = reader.DataReader(\"KBANK.bk\", \"yahoo\",\"2016-01-01\",\"2020-12-31\") \n",
        "apple.head()"
      ]
    },
    {
      "cell_type": "code",
      "execution_count": null,
      "metadata": {
        "colab": {
          "base_uri": "https://localhost:8080/",
          "height": 914
        },
        "id": "t1qrxp5Cz6Qy",
        "outputId": "864129a0-830c-456e-a574-542287ff6365"
      },
      "outputs": [
        {
          "data": {
            "text/plain": [
              "Text(0, 0.5, 'Difference in Change')"
            ]
          },
          "execution_count": 8,
          "metadata": {
            "tags": []
          },
          "output_type": "execute_result"
        },
        {
          "data": {
            "image/png": "[encoded data removed]",
            "text/plain": [
              "<Figure size 1080x1080 with 1 Axes>"
            ]
          },
          "metadata": {
            "tags": []
          },
          "output_type": "display_data"
        }
      ],
      "source": [
        "adj_close = apple['Adj Close'] # adjusted close prices\n",
        "pct_adj_close = adj_close.pct_change(1) # find daily percent changes \n",
        "close = apple['Close'] # close price\n",
        "pct_close = close.pct_change(1) # find daily percent changes \n",
        "plt.figure(figsize=(15,15))\n",
        "plt.plot(pct_close- pct_adj_close, \"o\")\n",
        "plt.grid()\n",
        "plt.xlabel(\"Date\")\n",
        "plt.ylabel(\"Difference in Change\")"
      ]
    },
    {
      "cell_type": "code",
      "execution_count": null,
      "metadata": {
        "colab": {
          "base_uri": "https://localhost:8080/"
        },
        "id": "TKpwyxf20DXr",
        "outputId": "7935c8cb-b280-4d73-fd0f-eae393e5dbde"
      },
      "outputs": [
        {
          "name": "stdout",
          "output_type": "stream",
          "text": [
            "The dividens are paid out on:\n",
            "2016-04-05\n",
            "2016-09-06\n",
            "2017-04-07\n",
            "2017-09-12\n",
            "2018-04-11\n",
            "2018-09-12\n",
            "2019-04-11\n",
            "2019-09-11\n",
            "2020-04-09\n"
          ]
        }
      ],
      "source": [
        "delta = pct_close- pct_adj_close \n",
        "threshold = -0.001 # We pick threshold = -0.001 from the graph.\n",
        "delta = delta[delta<threshold] # screen only the location where differences is less than -0.001\n",
        "print(\"The dividens are paid out on:\")\n",
        "for date in delta.index:\n",
        "  print(date.date())"
      ]
    },
    {
      "cell_type": "code",
      "execution_count": null,
      "metadata": {
        "colab": {
          "base_uri": "https://localhost:8080/"
        },
        "id": "C_Hm0WXD0IRr",
        "outputId": "e89b31aa-0e01-4119-b645-5801c2849636"
      },
      "outputs": [
        {
          "name": "stdout",
          "output_type": "stream",
          "text": [
            "Date\n",
            "2016-04-05    3.404239\n",
            "2016-09-06    0.501332\n",
            "2017-04-07    3.564471\n",
            "2017-09-12    0.496475\n",
            "2018-04-11    3.635660\n",
            "2018-09-12    0.508629\n",
            "2019-04-11    3.518457\n",
            "2019-09-11    0.512129\n",
            "2020-04-09    4.594241\n",
            "dtype: float64\n"
          ]
        }
      ],
      "source": [
        "dividends =[]\n",
        "for date in delta.index:\n",
        "  k = np.nonzero(apple.index==date)[0][0] # find the row where dividends have been paid.\n",
        "  close_before = close[k-1]\n",
        "  pct_close_div = pct_close[k]\n",
        "  pct_adj_div = pct_adj_close[k]\n",
        "  dividend = close_before * ( pct_adj_div - pct_close_div)\n",
        "  dividends.append(dividend)\n",
        "dividends = pd.Series(dividends, index=delta.index)\n",
        "print(dividends)"
      ]
    },
    {
      "cell_type": "code",
      "execution_count": null,
      "metadata": {
        "colab": {
          "base_uri": "https://localhost:8080/"
        },
        "id": "XAkdnOuR0NLj",
        "outputId": "0c15fdc9-457f-48b3-c274-62a7bb90906c"
      },
      "outputs": [
        {
          "name": "stdout",
          "output_type": "stream",
          "text": [
            "Yearly dividends: \n",
            "2016    3.905570\n",
            "2017    4.060947\n",
            "2018    4.144288\n",
            "2019    4.030586\n",
            "2020    4.594241\n",
            "dtype: float64\n",
            "Dividend growth rate: \n",
            "2017    0.039783\n",
            "2018    0.020523\n",
            "2019   -0.027436\n",
            "2020    0.139845\n",
            "dtype: float64\n",
            "Dividends growth rate is 3.015296811474988 %.\n"
          ]
        }
      ],
      "source": [
        "yearly_dividends = []\n",
        "for y in range(2016,2021): # Find dividens growth rate in the last 5 years.\n",
        "  dividend_year = dividends[dividends.index.year == y] #filter only one year\n",
        "  yearly_dividends.append(dividend_year.sum()) # find total dividens per year\n",
        "yearly_dividends = pd.Series(yearly_dividends, index=np.arange(2016,2021))\n",
        "dividend_growth = yearly_dividends.pct_change(1).dropna()\n",
        "print(\"Yearly dividends: \")\n",
        "print(yearly_dividends)\n",
        "print(\"Dividend growth rate: \")\n",
        "print(dividend_growth)\n",
        "g = dividend_growth.median()\n",
        "print(f\"Dividends growth rate is {g*100} %.\")"
      ]
    },
    {
      "cell_type": "code",
      "execution_count": null,
      "metadata": {
        "colab": {
          "base_uri": "https://localhost:8080/"
        },
        "id": "sDRZ33md0Re-",
        "outputId": "0037ed36-abe7-48e1-8087-860371865cbf"
      },
      "outputs": [
        {
          "name": "stdout",
          "output_type": "stream",
          "text": [
            "The current apple stock price is 113.0.\n",
            "From the Discounted Cash Flow model, Apple Stock price is 65.77574900024526.\n"
          ]
        }
      ],
      "source": [
        "r = 0.1 # Assume that we can find the risk-free security at 10%\n",
        "S_apple = yearly_dividends[2020]/(r - g) # D1/(r - g)\n",
        "print(f\"The current apple stock price is {adj_close.iloc[-1]}.\") # \n",
        "print(f\"From the Discounted Cash Flow model, Apple Stock price is {S_apple}.\")"
      ]
    },
    {
      "cell_type": "markdown",
      "metadata": {
        "id": "kaXkwXsy0WJq"
      },
      "source": [
        "#CPALL"
      ]
    },
    {
      "cell_type": "code",
      "execution_count": null,
      "metadata": {
        "colab": {
          "base_uri": "https://localhost:8080/",
          "height": 235
        },
        "id": "EClSec4E0Z4r",
        "outputId": "e5fb42e7-188e-47a1-8e2a-f21f4fb0b67c"
      },
      "outputs": [
        {
          "data": {
            "text/html": [
              "<div>\n",
              "<style scoped>\n",
              "    .dataframe tbody tr th:only-of-type {\n",
              "        vertical-align: middle;\n",
              "    }\n",
              "\n",
              "    .dataframe tbody tr th {\n",
              "        vertical-align: top;\n",
              "    }\n",
              "\n",
              "    .dataframe thead th {\n",
              "        text-align: right;\n",
              "    }\n",
              "</style>\n",
              "<table border=\"1\" class=\"dataframe\">\n",
              "  <thead>\n",
              "    <tr style=\"text-align: right;\">\n",
              "      <th></th>\n",
              "      <th>High</th>\n",
              "      <th>Low</th>\n",
              "      <th>Open</th>\n",
              "      <th>Close</th>\n",
              "      <th>Volume</th>\n",
              "      <th>Adj Close</th>\n",
              "    </tr>\n",
              "    <tr>\n",
              "      <th>Date</th>\n",
              "      <th></th>\n",
              "      <th></th>\n",
              "      <th></th>\n",
              "      <th></th>\n",
              "      <th></th>\n",
              "      <th></th>\n",
              "    </tr>\n",
              "  </thead>\n",
              "  <tbody>\n",
              "    <tr>\n",
              "      <th>2016-01-04</th>\n",
              "      <td>40.00</td>\n",
              "      <td>39.00</td>\n",
              "      <td>39.25</td>\n",
              "      <td>39.00</td>\n",
              "      <td>15918200.0</td>\n",
              "      <td>34.827610</td>\n",
              "    </tr>\n",
              "    <tr>\n",
              "      <th>2016-01-05</th>\n",
              "      <td>40.50</td>\n",
              "      <td>39.25</td>\n",
              "      <td>39.50</td>\n",
              "      <td>40.25</td>\n",
              "      <td>26932400.0</td>\n",
              "      <td>35.943882</td>\n",
              "    </tr>\n",
              "    <tr>\n",
              "      <th>2016-01-06</th>\n",
              "      <td>41.75</td>\n",
              "      <td>40.50</td>\n",
              "      <td>40.50</td>\n",
              "      <td>41.00</td>\n",
              "      <td>26179400.0</td>\n",
              "      <td>36.613644</td>\n",
              "    </tr>\n",
              "    <tr>\n",
              "      <th>2016-01-07</th>\n",
              "      <td>41.00</td>\n",
              "      <td>40.00</td>\n",
              "      <td>40.00</td>\n",
              "      <td>40.00</td>\n",
              "      <td>18699800.0</td>\n",
              "      <td>35.720627</td>\n",
              "    </tr>\n",
              "    <tr>\n",
              "      <th>2016-01-08</th>\n",
              "      <td>41.75</td>\n",
              "      <td>40.00</td>\n",
              "      <td>40.25</td>\n",
              "      <td>41.50</td>\n",
              "      <td>20330700.0</td>\n",
              "      <td>37.060154</td>\n",
              "    </tr>\n",
              "  </tbody>\n",
              "</table>\n",
              "</div>"
            ],
            "text/plain": [
              "             High    Low   Open  Close      Volume  Adj Close\n",
              "Date                                                         \n",
              "2016-01-04  40.00  39.00  39.25  39.00  15918200.0  34.827610\n",
              "2016-01-05  40.50  39.25  39.50  40.25  26932400.0  35.943882\n",
              "2016-01-06  41.75  40.50  40.50  41.00  26179400.0  36.613644\n",
              "2016-01-07  41.00  40.00  40.00  40.00  18699800.0  35.720627\n",
              "2016-01-08  41.75  40.00  40.25  41.50  20330700.0  37.060154"
            ]
          },
          "execution_count": 28,
          "metadata": {
            "tags": []
          },
          "output_type": "execute_result"
        }
      ],
      "source": [
        "import pandas as pd\n",
        "import pandas_datareader as reader\n",
        "import numpy as np\n",
        "import matplotlib.pyplot as plt\n",
        "apple = reader.DataReader(\"CPALL.bk\", \"yahoo\",\"2016-01-01\",\"2020-12-31\") \n",
        "apple.head()"
      ]
    },
    {
      "cell_type": "code",
      "execution_count": null,
      "metadata": {
        "colab": {
          "base_uri": "https://localhost:8080/",
          "height": 624
        },
        "id": "H9fWOOeU1meY",
        "outputId": "e030c375-1b12-4b3d-a1be-14426f0f4edf"
      },
      "outputs": [
        {
          "data": {
            "text/plain": [
              "Text(0, 0.5, 'Difference in Change')"
            ]
          },
          "execution_count": 29,
          "metadata": {
            "tags": []
          },
          "output_type": "execute_result"
        },
        {
          "data": {
            "image/png": "[encoded data removed]",
            "text/plain": [
              "<Figure size 1080x1080 with 1 Axes>"
            ]
          },
          "metadata": {
            "tags": []
          },
          "output_type": "display_data"
        }
      ],
      "source": [
        "adj_close = apple['Adj Close'] # adjusted close prices\n",
        "pct_adj_close = adj_close.pct_change(1) # find daily percent changes \n",
        "close = apple['Close'] # close price\n",
        "pct_close = close.pct_change(1) # find daily percent changes \n",
        "plt.figure(figsize=(15,15))\n",
        "plt.plot(pct_close- pct_adj_close, \"o\")\n",
        "plt.grid()\n",
        "plt.xlabel(\"Date\")\n",
        "plt.ylabel(\"Difference in Change\")"
      ]
    },
    {
      "cell_type": "code",
      "execution_count": null,
      "metadata": {
        "colab": {
          "base_uri": "https://localhost:8080/"
        },
        "id": "G6Zgjk7S1416",
        "outputId": "f8bcd414-420f-4e41-df16-6c10ebf6f111"
      },
      "outputs": [
        {
          "name": "stdout",
          "output_type": "stream",
          "text": [
            "The dividens are paid out on:\n",
            "2016-04-28\n",
            "2017-04-27\n",
            "2018-04-25\n",
            "2018-04-27\n",
            "2019-05-03\n",
            "2020-04-29\n",
            "2020-05-05\n"
          ]
        }
      ],
      "source": [
        "delta = pct_close- pct_adj_close \n",
        "threshold = -0.001 # We pick threshold = -0.001 from the graph.\n",
        "delta = delta[delta<threshold] # screen only the location where differences is less than -0.001\n",
        "print(\"The dividens are paid out on:\")\n",
        "for date in delta.index:\n",
        "  print(date.date())"
      ]
    },
    {
      "cell_type": "code",
      "execution_count": null,
      "metadata": {
        "colab": {
          "base_uri": "https://localhost:8080/"
        },
        "id": "pH3fGbxa2ATb",
        "outputId": "c29542b3-758b-4f4c-d27f-f2f10b7bab84"
      },
      "outputs": [
        {
          "name": "stdout",
          "output_type": "stream",
          "text": [
            "Date\n",
            "2016-04-28    0.902987\n",
            "2017-04-27    1.000004\n",
            "2018-04-25    1.120607\n",
            "2018-04-27    1.114084\n",
            "2019-05-03    1.218866\n",
            "2020-04-29    1.273144\n",
            "2020-05-05    1.250000\n",
            "dtype: float64\n"
          ]
        }
      ],
      "source": [
        "dividends =[]\n",
        "for date in delta.index:\n",
        "  k = np.nonzero(apple.index==date)[0][0] # find the row where dividends have been paid.\n",
        "  close_before = close[k-1]\n",
        "  pct_close_div = pct_close[k]\n",
        "  pct_adj_div = pct_adj_close[k]\n",
        "  dividend = close_before * ( pct_adj_div - pct_close_div)\n",
        "  dividends.append(dividend)\n",
        "dividends = pd.Series(dividends, index=delta.index)\n",
        "print(dividends)"
      ]
    },
    {
      "cell_type": "code",
      "execution_count": null,
      "metadata": {
        "colab": {
          "base_uri": "https://localhost:8080/"
        },
        "id": "thFgLuBi2Jyr",
        "outputId": "7df38330-8f69-480d-bc74-4d4ceaa6eaa8"
      },
      "outputs": [
        {
          "name": "stdout",
          "output_type": "stream",
          "text": [
            "Yearly dividends: \n",
            "2016    0.902987\n",
            "2017    1.000004\n",
            "2018    2.234691\n",
            "2019    1.218866\n",
            "2020    2.523144\n",
            "dtype: float64\n",
            "Dividend growth rate: \n",
            "2017    0.107441\n",
            "2018    1.234682\n",
            "2019   -0.454571\n",
            "2020    1.070075\n",
            "dtype: float64\n",
            "Dividends growth rate is 58.875796734727324 %.\n"
          ]
        }
      ],
      "source": [
        "yearly_dividends = []\n",
        "for y in range(2016,2021): # Find dividens growth rate in the last 5 years.\n",
        "  dividend_year = dividends[dividends.index.year == y] #filter only one year\n",
        "  yearly_dividends.append(dividend_year.sum()) # find total dividens per year\n",
        "yearly_dividends = pd.Series(yearly_dividends, index=np.arange(2016,2021))\n",
        "dividend_growth = yearly_dividends.pct_change(1).dropna()\n",
        "print(\"Yearly dividends: \")\n",
        "print(yearly_dividends)\n",
        "print(\"Dividend growth rate: \")\n",
        "print(dividend_growth)\n",
        "g = dividend_growth.median()\n",
        "print(f\"Dividends growth rate is {g*100} %.\")"
      ]
    },
    {
      "cell_type": "code",
      "execution_count": null,
      "metadata": {
        "colab": {
          "base_uri": "https://localhost:8080/"
        },
        "id": "_o5-bIH6294N",
        "outputId": "ab281792-0e34-4392-be93-9d4b91452cc0"
      },
      "outputs": [
        {
          "name": "stdout",
          "output_type": "stream",
          "text": [
            "The current apple stock price is 58.25.\n",
            "From the Discounted Cash Flow model, Apple Stock price is -5.162359207918569.\n"
          ]
        }
      ],
      "source": [
        "r = 0.1 # Assume that we can find the risk-free security at 10%\n",
        "S_apple = yearly_dividends[2020]/(r - g) # D1/(r - g)\n",
        "print(f\"The current apple stock price is {adj_close.iloc[-1]}.\") # \n",
        "print(f\"From the Discounted Cash Flow model, Apple Stock price is {S_apple}.\")"
      ]
    },
    {
      "cell_type": "markdown",
      "metadata": {
        "id": "jqOwb-L-3Epv"
      },
      "source": [
        "#ADVANC"
      ]
    },
    {
      "cell_type": "code",
      "execution_count": null,
      "metadata": {
        "colab": {
          "base_uri": "https://localhost:8080/",
          "height": 235
        },
        "id": "xjf-uv3K3Jz-",
        "outputId": "9e278100-cd02-498d-e1d9-309b483757e9"
      },
      "outputs": [
        {
          "data": {
            "text/html": [
              "<div>\n",
              "<style scoped>\n",
              "    .dataframe tbody tr th:only-of-type {\n",
              "        vertical-align: middle;\n",
              "    }\n",
              "\n",
              "    .dataframe tbody tr th {\n",
              "        vertical-align: top;\n",
              "    }\n",
              "\n",
              "    .dataframe thead th {\n",
              "        text-align: right;\n",
              "    }\n",
              "</style>\n",
              "<table border=\"1\" class=\"dataframe\">\n",
              "  <thead>\n",
              "    <tr style=\"text-align: right;\">\n",
              "      <th></th>\n",
              "      <th>High</th>\n",
              "      <th>Low</th>\n",
              "      <th>Open</th>\n",
              "      <th>Close</th>\n",
              "      <th>Volume</th>\n",
              "      <th>Adj Close</th>\n",
              "    </tr>\n",
              "    <tr>\n",
              "      <th>Date</th>\n",
              "      <th></th>\n",
              "      <th></th>\n",
              "      <th></th>\n",
              "      <th></th>\n",
              "      <th></th>\n",
              "      <th></th>\n",
              "    </tr>\n",
              "  </thead>\n",
              "  <tbody>\n",
              "    <tr>\n",
              "      <th>2016-01-04</th>\n",
              "      <td>149.5</td>\n",
              "      <td>141.0</td>\n",
              "      <td>149.0</td>\n",
              "      <td>143.0</td>\n",
              "      <td>24880200.0</td>\n",
              "      <td>115.078918</td>\n",
              "    </tr>\n",
              "    <tr>\n",
              "      <th>2016-01-05</th>\n",
              "      <td>144.5</td>\n",
              "      <td>131.0</td>\n",
              "      <td>144.0</td>\n",
              "      <td>131.0</td>\n",
              "      <td>59681500.0</td>\n",
              "      <td>105.421974</td>\n",
              "    </tr>\n",
              "    <tr>\n",
              "      <th>2016-01-06</th>\n",
              "      <td>139.0</td>\n",
              "      <td>128.0</td>\n",
              "      <td>128.5</td>\n",
              "      <td>137.5</td>\n",
              "      <td>59203500.0</td>\n",
              "      <td>110.652824</td>\n",
              "    </tr>\n",
              "    <tr>\n",
              "      <th>2016-01-07</th>\n",
              "      <td>138.0</td>\n",
              "      <td>131.5</td>\n",
              "      <td>133.0</td>\n",
              "      <td>134.5</td>\n",
              "      <td>32742400.0</td>\n",
              "      <td>108.238594</td>\n",
              "    </tr>\n",
              "    <tr>\n",
              "      <th>2016-01-08</th>\n",
              "      <td>144.0</td>\n",
              "      <td>135.0</td>\n",
              "      <td>137.0</td>\n",
              "      <td>144.0</td>\n",
              "      <td>26585900.0</td>\n",
              "      <td>115.883698</td>\n",
              "    </tr>\n",
              "  </tbody>\n",
              "</table>\n",
              "</div>"
            ],
            "text/plain": [
              "             High    Low   Open  Close      Volume   Adj Close\n",
              "Date                                                          \n",
              "2016-01-04  149.5  141.0  149.0  143.0  24880200.0  115.078918\n",
              "2016-01-05  144.5  131.0  144.0  131.0  59681500.0  105.421974\n",
              "2016-01-06  139.0  128.0  128.5  137.5  59203500.0  110.652824\n",
              "2016-01-07  138.0  131.5  133.0  134.5  32742400.0  108.238594\n",
              "2016-01-08  144.0  135.0  137.0  144.0  26585900.0  115.883698"
            ]
          },
          "execution_count": 35,
          "metadata": {
            "tags": []
          },
          "output_type": "execute_result"
        }
      ],
      "source": [
        "import pandas as pd\n",
        "import pandas_datareader as reader\n",
        "import numpy as np\n",
        "import matplotlib.pyplot as plt\n",
        "apple = reader.DataReader(\"ADVANC.bk\", \"yahoo\",\"2016-01-01\",\"2020-12-31\") \n",
        "apple.head()"
      ]
    },
    {
      "cell_type": "code",
      "execution_count": null,
      "metadata": {
        "colab": {
          "base_uri": "https://localhost:8080/",
          "height": 628
        },
        "id": "PE5fN-ww3gho",
        "outputId": "54ec9b9f-023f-42ca-82a5-b99c86b6a6d0"
      },
      "outputs": [
        {
          "data": {
            "text/plain": [
              "Text(0, 0.5, 'Difference in Change')"
            ]
          },
          "execution_count": 36,
          "metadata": {
            "tags": []
          },
          "output_type": "execute_result"
        },
        {
          "data": {
            "image/png": "[encoded data removed]",
            "text/plain": [
              "<Figure size 1080x1080 with 1 Axes>"
            ]
          },
          "metadata": {
            "tags": []
          },
          "output_type": "display_data"
        }
      ],
      "source": [
        "adj_close = apple['Adj Close'] # adjusted close prices\n",
        "pct_adj_close = adj_close.pct_change(1) # find daily percent changes \n",
        "close = apple['Close'] # close price\n",
        "pct_close = close.pct_change(1) # find daily percent changes \n",
        "plt.figure(figsize=(15,15))\n",
        "plt.plot(pct_close- pct_adj_close, \"o\")\n",
        "plt.grid()\n",
        "plt.xlabel(\"Date\")\n",
        "plt.ylabel(\"Difference in Change\")"
      ]
    },
    {
      "cell_type": "code",
      "execution_count": null,
      "metadata": {
        "colab": {
          "base_uri": "https://localhost:8080/"
        },
        "id": "t-kUNlRL3iwp",
        "outputId": "4a40d4b7-e66f-44bc-d762-2250e0bf5668"
      },
      "outputs": [
        {
          "name": "stdout",
          "output_type": "stream",
          "text": [
            "The dividens are paid out on:\n",
            "2016-03-31\n",
            "2016-08-15\n",
            "2017-04-05\n",
            "2017-08-07\n",
            "2018-04-05\n",
            "2018-08-15\n",
            "2019-02-20\n",
            "2019-08-16\n",
            "2020-02-19\n",
            "2020-08-19\n"
          ]
        }
      ],
      "source": [
        "delta = pct_close- pct_adj_close \n",
        "threshold = -0.001 # We pick threshold = -0.001 from the graph.\n",
        "delta = delta[delta<threshold] # screen only the location where differences is less than -0.001\n",
        "print(\"The dividens are paid out on:\")\n",
        "for date in delta.index:\n",
        "  print(date.date())"
      ]
    },
    {
      "cell_type": "code",
      "execution_count": null,
      "metadata": {
        "colab": {
          "base_uri": "https://localhost:8080/"
        },
        "id": "yGdMicbp3ntQ",
        "outputId": "53e6443f-a9c0-4439-c002-093c076a624f"
      },
      "outputs": [
        {
          "name": "stdout",
          "output_type": "stream",
          "text": [
            "Date\n",
            "2016-03-31    6.471861\n",
            "2016-08-15    5.799403\n",
            "2017-04-05    4.322589\n",
            "2017-08-07    3.472139\n",
            "2018-04-05    3.544272\n",
            "2018-08-15    3.727608\n",
            "2019-02-20    3.250543\n",
            "2019-08-16    3.882942\n",
            "2020-02-19    3.569505\n",
            "2020-08-19    3.209796\n",
            "dtype: float64\n"
          ]
        }
      ],
      "source": [
        "dividends =[]\n",
        "for date in delta.index:\n",
        "  k = np.nonzero(apple.index==date)[0][0] # find the row where dividends have been paid.\n",
        "  close_before = close[k-1]\n",
        "  pct_close_div = pct_close[k]\n",
        "  pct_adj_div = pct_adj_close[k]\n",
        "  dividend = close_before * ( pct_adj_div - pct_close_div)\n",
        "  dividends.append(dividend)\n",
        "dividends = pd.Series(dividends, index=delta.index)\n",
        "print(dividends)"
      ]
    },
    {
      "cell_type": "code",
      "execution_count": null,
      "metadata": {
        "colab": {
          "base_uri": "https://localhost:8080/"
        },
        "id": "c8-DfNaD6byW",
        "outputId": "eda7cc2c-c9b1-4b76-8d77-6c82deb47a13"
      },
      "outputs": [
        {
          "name": "stdout",
          "output_type": "stream",
          "text": [
            "Yearly dividends: \n",
            "2016    12.271264\n",
            "2017     7.794728\n",
            "2018     7.271880\n",
            "2019     7.133484\n",
            "2020     6.779301\n",
            "dtype: float64\n",
            "Dividend growth rate: \n",
            "2017   -0.364798\n",
            "2018   -0.067077\n",
            "2019   -0.019032\n",
            "2020   -0.049651\n",
            "dtype: float64\n",
            "Dividends growth rate is -5.836396772718261 %.\n"
          ]
        }
      ],
      "source": [
        "yearly_dividends = []\n",
        "for y in range(2016,2021): # Find dividens growth rate in the last 5 years.\n",
        "  dividend_year = dividends[dividends.index.year == y] #filter only one year\n",
        "  yearly_dividends.append(dividend_year.sum()) # find total dividens per year\n",
        "yearly_dividends = pd.Series(yearly_dividends, index=np.arange(2016,2021))\n",
        "dividend_growth = yearly_dividends.pct_change(1).dropna()\n",
        "print(\"Yearly dividends: \")\n",
        "print(yearly_dividends)\n",
        "print(\"Dividend growth rate: \")\n",
        "print(dividend_growth)\n",
        "g = dividend_growth.median()\n",
        "print(f\"Dividends growth rate is {g*100} %.\")"
      ]
    },
    {
      "cell_type": "code",
      "execution_count": null,
      "metadata": {
        "colab": {
          "base_uri": "https://localhost:8080/"
        },
        "id": "ysHAz-kz6rSJ",
        "outputId": "e8ccfe00-93e2-4072-b671-2feb528f4475"
      },
      "outputs": [
        {
          "name": "stdout",
          "output_type": "stream",
          "text": [
            "The current apple stock price is 176.0.\n",
            "From the Discounted Cash Flow model, Apple Stock price is 42.808356107563114.\n"
          ]
        }
      ],
      "source": [
        "r = 0.1 # Assume that we can find the risk-free security at 10%\n",
        "S_apple = yearly_dividends[2020]/(r - g) # D1/(r - g)\n",
        "print(f\"The current apple stock price is {adj_close.iloc[-1]}.\") # \n",
        "print(f\"From the Discounted Cash Flow model, Apple Stock price is {S_apple}.\")"
      ]
    }
  ],
  "metadata": {
    "colab": {
      "collapsed_sections": [],
      "provenance": [],
      "toc_visible": true
    },
    "kernelspec": {
      "display_name": "Python 3",
      "name": "python3"
    }
  },
  "nbformat": 4,
  "nbformat_minor": 0
}